{
 "cells": [
  {
   "cell_type": "code",
   "execution_count": 7,
   "id": "359a1fa5-1f2d-427b-90c8-2c450b406c3b",
   "metadata": {},
   "outputs": [],
   "source": [
    "from pyspark.sql import SparkSession\n",
    "from pyspark.sql.functions import col\n",
    "from loguru import logger"
   ]
  },
  {
   "cell_type": "code",
   "execution_count": 2,
   "id": "1e11ae38-0d94-41df-b839-ae9fa2e8d6da",
   "metadata": {},
   "outputs": [],
   "source": [
    "spark: SparkSession = (\n",
    "            SparkSession.builder.master(\"spark://spark-master:7077\")\n",
    "            .appName(\"tft-analyzer\")\n",
    "            .config(\"spark.driver.extraJavaOptions\", \"-Duser.timezone=GMT\")\n",
    "            .config(\"spark.executor.extraJavaOptions\", \"-Duser.timezone=GMT\")\n",
    "            .config(\"spark.sql.session.timeZone\", \"UTC\")\n",
    "            .config(\n",
    "                \"spark.jars.packages\",\n",
    "                \"io.delta:delta-core_2.12:2.2.0,org.apache.spark:spark-sql-kafka-0-10_2.12:3.3.0,org.apache.spark:spark-avro_2.12:3.3.0\",\n",
    "            )\n",
    "            .config(\"spark.sql.extensions\", \"io.delta.sql.DeltaSparkSessionExtension\")\n",
    "            .config(\n",
    "                \"spark.delta.logStore.class\",\n",
    "                \"org.apache.spark.sql.delta.storage.HDFSLogStore\",\n",
    "            )\n",
    "            .config(\n",
    "                \"spark.sql.catalog.spark_catalog\",\n",
    "                \"org.apache.spark.sql.delta.catalog.DeltaCatalog\",\n",
    "            )\n",
    "            .config(\n",
    "                \"spark.sql.warehouse.dir\", \"hdfs://namenode:9000/user/hive/warehouse\"\n",
    "            )\n",
    "            .config(\n",
    "                \"spark.hadoop.javax.jdo.option.ConnectionURL\",\n",
    "                \"jdbc:postgresql://hive-metastore-postgresql/metastore\",\n",
    "            )\n",
    "            .config(\n",
    "                \"spark.hadoop.javax.jdo.option.ConnectionDriverName\",\n",
    "                \"org.postgresql.Driver\",\n",
    "            )\n",
    "            .config(\"spark.hadoop.javax.jdo.option.ConnectionUserName\", \"hive\")\n",
    "            .config(\"spark.hadoop.javax.jdo.option.ConnectionPassword\", \"hive\")\n",
    "            .config(\"spark.hadoop.hive.metastore.uris\", \"thrift://hive-metastore:9083\")\n",
    "            .config(\"spark.pyspark.python\", \"python3\")\n",
    "            .enableHiveSupport()\n",
    "            .getOrCreate()\n",
    "        )"
   ]
  },
  {
   "cell_type": "code",
   "execution_count": 8,
   "id": "f06e6ad4-3f95-42d2-a805-d36ee629bb52",
   "metadata": {},
   "outputs": [],
   "source": [
    "def read_delta(table: str, spark):\n",
    "    logger.info(f'Started reading from \"{table}\"...')\n",
    "    df: DataFrame = spark.read.format(\"delta\").table(table)\n",
    "    logger.info(f'Finished reading from \"{table}\".')\n",
    "    return df"
   ]
  },
  {
   "cell_type": "code",
   "execution_count": 9,
   "id": "17a474c2-db7e-4504-9ed3-3dc9e1d174e0",
   "metadata": {},
   "outputs": [
    {
     "name": "stderr",
     "output_type": "stream",
     "text": [
      "\u001b[32m2024-01-25 02:07:58.116\u001b[0m | \u001b[1mINFO    \u001b[0m | \u001b[36m__main__\u001b[0m:\u001b[36mread_delta\u001b[0m:\u001b[36m2\u001b[0m - \u001b[1mStarted reading from \"gold.composition_metrics\"...\u001b[0m\n",
      "\u001b[32m2024-01-25 02:08:09.843\u001b[0m | \u001b[1mINFO    \u001b[0m | \u001b[36m__main__\u001b[0m:\u001b[36mread_delta\u001b[0m:\u001b[36m4\u001b[0m - \u001b[1mFinished reading from \"gold.composition_metrics\".\u001b[0m\n"
     ]
    }
   ],
   "source": [
    "composition_metrics = read_delta(\"gold.composition_metrics\", spark)"
   ]
  },
  {
   "cell_type": "code",
   "execution_count": 11,
   "id": "4cba318e-7b54-450e-af2a-c06afd2fb2c3",
   "metadata": {},
   "outputs": [
    {
     "name": "stdout",
     "output_type": "stream",
     "text": [
      "+-----------------+-----------------+--------------------+------------------+-------------------+------------------+------------------+----+\n",
      "|trait1           |trait2           |strength            |avg_placement     |pick_rate          |top_4_rate        |top_1_rate        |rank|\n",
      "+-----------------+-----------------+--------------------+------------------+-------------------+------------------+------------------+----+\n",
      "|Set10_Dazzler    |Set10_Funk       |0.0958270017278458  |4.638658774536127 |0.11490588949605345|42.9611790403181  |9.594945542146233 |1   |\n",
      "|Set10_Hyperpop   |Set10_Funk       |0.08321607780839112 |3.5652207159070763|0.13615664845173042|67.17268301652224 |21.580913623962164|2   |\n",
      "|Set10_Brawler    |Set10_Funk       |0.054045472351984085|4.661235243123546 |0.12234365513054038|46.51819872409271 |12.241406786490645|3   |\n",
      "|Set10_Fighter    |Set10_Country    |0.04434958223544184 |4.008341508372336 |0.09517304189435337|58.45189423417696 |18.58585983142065 |4   |\n",
      "|Set10_Brawler    |Set10_Dazzler    |0.044109608768078706|4.328440797647231 |0.15163934426229506|54.72267071125075 |8.87346642592731  |5   |\n",
      "|Set10_Brawler    |Set10_Country    |0.0422015038469263  |4.046477400959763 |0.09517304189435338|57.09605484943406 |16.59116930944796 |6   |\n",
      "|Set10_Guardian   |Set10_Country    |0.04201424135492887 |4.731169182614722 |0.09608378870673952|40.21004771040239 |7.008927076005762 |7   |\n",
      "|Set10_Hyperpop   |Set10_Dazzler    |0.04192592441644077 |4.81982151835093  |0.11202185792349727|44.42559074912017 |8.025389643036702 |8   |\n",
      "|Set10_Sentinel   |Set10_Funk       |0.04169056272039829 |4.5833108053423395|0.12295081967213115|52.635818731597716|8.051129591202967 |9   |\n",
      "|Set10_Executioner|Set10_Country    |0.04118769295089644 |4.736610149110149 |0.08561020036429873|46.188071188071184|8.477633477633477 |10  |\n",
      "|Set10_Emo        |Set10_Country    |0.04096613348260048 |4.6069116069116065|0.08879781420765027|50.028675028675025|7.865282865282865 |11  |\n",
      "|Set10_Guardian   |Set10_Executioner|0.03916366528681781 |3.956619665221469 |0.1254553734061931 |59.24669100248997 |11.509960417821242|12  |\n",
      "|Set10_Spellweaver|Set10_Funk       |0.03599985280621488 |4.687869230806637 |0.1278081360048573 |51.80080589917771 |8.094246054616612 |13  |\n",
      "|Set10_Emo        |Set10_Executioner|0.035859653996453904|4.170971367274848 |0.09836065573770492|55.394393562004836|9.968032719742826 |14  |\n",
      "|Set10_Fighter    |Set10_Pentakill  |0.03299296372683485 |3.891021821413455 |0.12687841530054647|63.55300313922453 |16.921825314605496|15  |\n",
      "|Set10_Sentinel   |Set10_Dazzler    |0.031559125283463704|4.143089529836518 |0.13497267759562842|60.06552907155317 |8.3635842069577   |16  |\n",
      "|Set10_Sentinel   |Set10_Edgelord   |0.03096866948832045 |4.55220621864964  |0.16475409836065574|49.98544903385071 |12.344739199041115|17  |\n",
      "|Set10_Deadeye    |Set10_Jazz       |0.029355578604332525|3.5527189542483657|0.06079234972677595|65.81307189542484 |31.469281045751632|18  |\n",
      "|Set10_Sentinel   |Set10_8Bit       |0.02848285970950663 |4.9209182454343745|0.0942622950819672 |41.36839594097658 |15.54809229002777 |19  |\n",
      "|Set10_Pentakill  |Set10_Edgelord   |0.02800398106818332 |4.827593372663415 |0.1227231329690346 |45.40480535721196 |9.16827216126785  |20  |\n",
      "|Set10_Executioner|Set10_Pentakill  |0.02783445346532471 |3.8422667340287475|0.11150956284153003|59.71818441855626 |21.400252112494677|21  |\n",
      "|Set10_Guardian   |Set10_KDA        |0.027780457082048425|3.4613036771326313|0.09426229508196722|68.4210724695342  |25.55405723034489 |22  |\n",
      "|Set10_Hyperpop   |Set10_Spellweaver|0.027683293883872473|3.921058996855553 |0.09380692167577413|65.94652241792555 |12.053345647250259|23  |\n",
      "|Set10_Guardian   |Set10_Jazz       |0.027481778119454084|3.606872509232545 |0.06807832422586521|66.68548090451009 |15.450487818712952|24  |\n",
      "|Set10_Superfan   |Set10_KDA        |0.027427432741299634|3.3933726132360706|0.11407103825136611|68.02307109222058 |27.97735199080159 |25  |\n",
      "+-----------------+-----------------+--------------------+------------------+-------------------+------------------+------------------+----+\n",
      "\n"
     ]
    }
   ],
   "source": [
    "composition_metrics.show(25, False)"
   ]
  },
  {
   "cell_type": "code",
   "execution_count": null,
   "id": "cd61ca2d-4aa4-4a0f-91ce-b462a80a2158",
   "metadata": {},
   "outputs": [],
   "source": []
  }
 ],
 "metadata": {
  "kernelspec": {
   "display_name": "Python 3 (ipykernel)",
   "language": "python",
   "name": "python3"
  },
  "language_info": {
   "codemirror_mode": {
    "name": "ipython",
    "version": 3
   },
   "file_extension": ".py",
   "mimetype": "text/x-python",
   "name": "python",
   "nbconvert_exporter": "python",
   "pygments_lexer": "ipython3",
   "version": "3.10.6"
  }
 },
 "nbformat": 4,
 "nbformat_minor": 5
}
