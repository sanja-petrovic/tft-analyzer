{
 "cells": [
  {
   "cell_type": "code",
   "execution_count": 7,
   "id": "f6305dbc-39cf-4eb1-9a2f-45f436021681",
   "metadata": {},
   "outputs": [],
   "source": [
    "from pyspark.sql import SparkSession\n",
    "from pyspark.sql.functions import col"
   ]
  },
  {
   "cell_type": "code",
   "execution_count": 3,
   "id": "b6bc631e-c11e-4d13-8ff4-96774767cb72",
   "metadata": {},
   "outputs": [],
   "source": [
    "spark: SparkSession = (\n",
    "            SparkSession.builder.master(\"spark://spark-master:7077\")\n",
    "            .appName(\"tft-analyzer\")\n",
    "            .config(\"spark.driver.extraJavaOptions\", \"-Duser.timezone=GMT\")\n",
    "            .config(\"spark.executor.extraJavaOptions\", \"-Duser.timezone=GMT\")\n",
    "            .config(\"spark.sql.session.timeZone\", \"UTC\")\n",
    "            .config(\n",
    "                \"spark.jars.packages\",\n",
    "                \"io.delta:delta-core_2.12:2.2.0,org.apache.spark:spark-sql-kafka-0-10_2.12:3.3.0,org.apache.spark:spark-avro_2.12:3.3.0\",\n",
    "            )\n",
    "            .config(\"spark.sql.extensions\", \"io.delta.sql.DeltaSparkSessionExtension\")\n",
    "            .config(\n",
    "                \"spark.delta.logStore.class\",\n",
    "                \"org.apache.spark.sql.delta.storage.HDFSLogStore\",\n",
    "            )\n",
    "            .config(\n",
    "                \"spark.sql.catalog.spark_catalog\",\n",
    "                \"org.apache.spark.sql.delta.catalog.DeltaCatalog\",\n",
    "            )\n",
    "            .config(\n",
    "                \"spark.sql.warehouse.dir\", \"hdfs://namenode:9000/user/hive/warehouse\"\n",
    "            )\n",
    "            .config(\n",
    "                \"spark.hadoop.javax.jdo.option.ConnectionURL\",\n",
    "                \"jdbc:postgresql://hive-metastore-postgresql/metastore\",\n",
    "            )\n",
    "            .config(\n",
    "                \"spark.hadoop.javax.jdo.option.ConnectionDriverName\",\n",
    "                \"org.postgresql.Driver\",\n",
    "            )\n",
    "            .config(\"spark.hadoop.javax.jdo.option.ConnectionUserName\", \"hive\")\n",
    "            .config(\"spark.hadoop.javax.jdo.option.ConnectionPassword\", \"hive\")\n",
    "            .config(\"spark.hadoop.hive.metastore.uris\", \"thrift://hive-metastore:9083\")\n",
    "            .config(\"spark.pyspark.python\", \"python3\")\n",
    "            .enableHiveSupport()\n",
    "            .getOrCreate()\n",
    "        )"
   ]
  },
  {
   "cell_type": "code",
   "execution_count": 8,
   "id": "a9f9fde4-4739-4303-aba4-fcb1ad4a8d4a",
   "metadata": {},
   "outputs": [
    {
     "name": "stdout",
     "output_type": "stream",
     "text": [
      "+---------------+------------------+---------+----------+-----+---------+------------------+--------------------+------------------+-----------------------+-------+\n",
      "|       match_id|       game_length|gold_left|last_round|level|placement|players_eliminated|               puuid|   time_eliminated|total_damage_to_players|outcome|\n",
      "+---------------+------------------+---------+----------+-----+---------+------------------+--------------------+------------------+-----------------------+-------+\n",
      "|EUW1_6698825371|2012.4964599609375|        1|        31|    9|        3|                 1|Io54W8k3YRT-uSGh0...|1906.4945068359375|                    108|    win|\n",
      "|EUW1_6698825371|2012.4964599609375|       48|        33|    8|        2|                 2|Vrj3An3x0hKHoIK1d...| 2005.926025390625|                    198|    win|\n",
      "|EUW1_6698825371|2012.4964599609375|        0|        30|    8|        4|                 0|YdIfLWAZVsc-XO1ZO...|    1841.869140625|                     72|    win|\n",
      "|EUW1_6698825371|2012.4964599609375|        3|        33|    8|        1|                 2|ZMXpaYpQR4mTxGCnY...| 2005.926025390625|                    139|    win|\n",
      "|EUW1_6699283735|   2258.2802734375|        5|        38|   10|        2|                 2|NDDrjmELUBvrMWJPG...| 2250.155029296875|                    147|    win|\n",
      "|EUW1_6699283735|   2258.2802734375|        0|        34|    9|        3|                 1|Ngt1-fTBfjTc3D3Jw...| 2054.489501953125|                    119|    win|\n",
      "|EUW1_6699283735|   2258.2802734375|       61|        33|    8|        4|                 0|ae5CMfurXtAaab00S...|   1993.7177734375|                     96|    win|\n",
      "|EUW1_6699283735|   2258.2802734375|        1|        38|    9|        1|                 3|le0-JZtt-KAOEyT3o...| 2250.155029296875|                    180|    win|\n",
      "|EUW1_6699315530|  2118.09716796875|        1|        37|    8|        2|                 2|29hJ_zLUh6-qM6f43...| 2114.137451171875|                    103|    win|\n",
      "|EUW1_6699315530|  2118.09716796875|        5|        35|    9|        3|                 1|IxyI9I61drRCV8Y99...| 2035.261474609375|                    144|    win|\n",
      "|EUW1_6699315530|  2118.09716796875|        1|        34|    9|        4|                 0|WQk3PQxAVZ7esw-Wa...|1968.5521240234375|                    113|    win|\n",
      "|EUW1_6699315530|  2118.09716796875|       13|        37|    9|        1|                 3|YdIfLWAZVsc-XO1ZO...| 2114.137451171875|                    163|    win|\n",
      "|EUW1_6699844195| 2586.597412109375|        1|        41|    8|        2|                 2|2rFGwEKjemsgTNLGS...| 2578.374267578125|                    195|    win|\n",
      "|EUW1_6699844195| 2586.597412109375|        3|        41|    8|        1|                 2|9ojqkFRoff6aZRg8l...| 2578.425048828125|                    188|    win|\n",
      "|EUW1_6699844195| 2586.597412109375|       11|        31|    8|        4|                 0|YUJGBkUu6BwP3ys5D...|1936.2943115234375|                     94|    win|\n",
      "|EUW1_6699844195| 2586.597412109375|        0|        35|    9|        3|                 2|YdIfLWAZVsc-XO1ZO...|  2204.11572265625|                    130|    win|\n",
      "|EUW1_6699907656|   2216.1865234375|        0|        37|   10|        3|                 3|0xDoq--sSQr8KnQHT...| 2153.243896484375|                    147|    win|\n",
      "|EUW1_6699907656|   2216.1865234375|        4|        38|   10|        1|                 2|OAZKlBiUxpv46yfHn...| 2211.014892578125|                    216|    win|\n",
      "|EUW1_6699907656|   2216.1865234375|        1|        34|    8|        4|                 0|YdIfLWAZVsc-XO1ZO...| 2004.329833984375|                     90|    win|\n",
      "|EUW1_6699907656|   2216.1865234375|        0|        38|    9|        2|                 2|_fnu8qtTBEE3RBd2T...| 2209.414794921875|                    167|    win|\n",
      "+---------------+------------------+---------+----------+-----+---------+------------------+--------------------+------------------+-----------------------+-------+\n",
      "only showing top 20 rows\n",
      "\n"
     ]
    }
   ],
   "source": [
    "spark.read.format(\"delta\").table(\"silver.matches\").where(col(\"outcome\") == \"win\").show()"
   ]
  },
  {
   "cell_type": "code",
   "execution_count": null,
   "id": "b4742e3b-cf2f-46ff-a15e-53fe57e86008",
   "metadata": {},
   "outputs": [],
   "source": []
  }
 ],
 "metadata": {
  "kernelspec": {
   "display_name": "Python 3 (ipykernel)",
   "language": "python",
   "name": "python3"
  },
  "language_info": {
   "codemirror_mode": {
    "name": "ipython",
    "version": 3
   },
   "file_extension": ".py",
   "mimetype": "text/x-python",
   "name": "python",
   "nbconvert_exporter": "python",
   "pygments_lexer": "ipython3",
   "version": "3.10.6"
  }
 },
 "nbformat": 4,
 "nbformat_minor": 5
}
